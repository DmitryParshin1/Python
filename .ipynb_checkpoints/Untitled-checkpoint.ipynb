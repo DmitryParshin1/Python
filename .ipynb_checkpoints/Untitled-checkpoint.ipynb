{
 "cells": [
  {
   "cell_type": "code",
   "execution_count": null,
   "metadata": {},
   "outputs": [],
   "source": []
  }
 ],
 "metadata": {
  "kernelspec": {
   "display_name": "Python 3.11.1 ('venv': venv)",
   "language": "python",
   "name": "python3"
  },
  "language_info": {
   "name": "python",
   "version": "3.11.1"
  },
  "vscode": {
   "interpreter": {
    "hash": "b6dfb501ca833e3006ae4b49a23a1f257f57023578fbbd6f9c54d056bf743cd2"
   }
  }
 },
 "nbformat": 4,
 "nbformat_minor": 5
}
