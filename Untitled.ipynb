{
 "cells": [
  {
   "cell_type": "code",
   "execution_count": null,
   "id": "ef195924",
   "metadata": {},
   "outputs": [],
   "source": [
    "#Дана функция f(x) = 5*x**2 + 10*x - 30\n",
    "#4. Построить график\n",
    "#1. Определить корни\n",
    "#5. Вычислить вершину\n",
    "#2. Найти интервалы, на которых функция возрастает\n",
    "#3. Найти интервалы, на которых функция убывает\n",
    "#6. Определить промежутки, на котором f > 0\n",
    "#7. Определить промежутки, на котором f < 0"
   ]
  },
  {
   "cell_type": "code",
   "execution_count": 1,
   "id": "8cc9cc36",
   "metadata": {},
   "outputs": [
    {
     "ename": "ModuleNotFoundError",
     "evalue": "No module named 'numpy'",
     "output_type": "error",
     "traceback": [
      "\u001b[0;31m---------------------------------------------------------------------------\u001b[0m",
      "\u001b[0;31mModuleNotFoundError\u001b[0m                       Traceback (most recent call last)",
      "Cell \u001b[0;32mIn[1], line 1\u001b[0m\n\u001b[0;32m----> 1\u001b[0m \u001b[38;5;28;01mimport\u001b[39;00m \u001b[38;5;21;01mnumpy\u001b[39;00m \u001b[38;5;28;01mas\u001b[39;00m \u001b[38;5;21;01mnp\u001b[39;00m\n\u001b[1;32m      2\u001b[0m \u001b[38;5;28;01mimport\u001b[39;00m \u001b[38;5;21;01mmatplotlib\u001b[39;00m\u001b[38;5;21;01m.\u001b[39;00m\u001b[38;5;21;01mpyplot\u001b[39;00m \u001b[38;5;28;01mas\u001b[39;00m \u001b[38;5;21;01mplt\u001b[39;00m\n",
      "\u001b[0;31mModuleNotFoundError\u001b[0m: No module named 'numpy'"
     ]
    }
   ],
   "source": [
    "import numpy as np\n",
    "import matplotlib.pyplot as plt"
   ]
  },
  {
   "cell_type": "code",
   "execution_count": 2,
   "id": "0f09f222",
   "metadata": {},
   "outputs": [],
   "source": [
    "limit = 10\n",
    "step = 0.01"
   ]
  },
  {
   "cell_type": "code",
   "execution_count": 3,
   "id": "ea05e6ef",
   "metadata": {},
   "outputs": [],
   "source": [
    "a, b, c = 5, 10, -30"
   ]
  },
  {
   "cell_type": "code",
   "execution_count": 4,
   "id": "9abd70ed",
   "metadata": {},
   "outputs": [
    {
     "ename": "NameError",
     "evalue": "name 'np' is not defined",
     "output_type": "error",
     "traceback": [
      "\u001b[0;31m---------------------------------------------------------------------------\u001b[0m",
      "\u001b[0;31mNameError\u001b[0m                                 Traceback (most recent call last)",
      "Cell \u001b[0;32mIn[4], line 1\u001b[0m\n\u001b[0;32m----> 1\u001b[0m x \u001b[38;5;241m=\u001b[39m \u001b[43mnp\u001b[49m\u001b[38;5;241m.\u001b[39marange(\u001b[38;5;241m-\u001b[39mlimit, limit, step)\n",
      "\u001b[0;31mNameError\u001b[0m: name 'np' is not defined"
     ]
    }
   ],
   "source": [
    "x = np.arange(-limit, limit, step)"
   ]
  },
  {
   "cell_type": "code",
   "execution_count": 5,
   "id": "055f7af1",
   "metadata": {},
   "outputs": [],
   "source": [
    "def func(x):\n",
    "    return a*x**2 + b*x + c"
   ]
  },
  {
   "cell_type": "code",
   "execution_count": null,
   "id": "c9e17cb9",
   "metadata": {},
   "outputs": [],
   "source": [
    "def take_roots(a, b, c):\n",
    "    discr = b**2 - 4*a*c\n",
    "    if discr > 0:\n",
    "        x1 = (-b + discr**0.5)/(2*a)\n",
    "        x2 = (-b - discr**0.5)/(2*a)\n",
    "        return x1, x2\n",
    "    elif discr == 0:\n",
    "        x = -b / (2*a)\n",
    "        return x, x\n",
    "    else:\n",
    "        return None, None"
   ]
  },
  {
   "cell_type": "code",
   "execution_count": null,
   "id": "bd2c5bee",
   "metadata": {},
   "outputs": [],
   "source": [
    "roots = take_roots(a, b, c)"
   ]
  },
  {
   "cell_type": "code",
   "execution_count": null,
   "id": "19fa18e1",
   "metadata": {},
   "outputs": [],
   "source": [
    "#print(take_roots(5, 10, -30))\n",
    "#print(np.roots([5, 10, -30])) то же самое roots - вычесляет корни"
   ]
  },
  {
   "cell_type": "code",
   "execution_count": null,
   "id": "e5971171",
   "metadata": {},
   "outputs": [],
   "source": [
    "min_y = (min(func(x)))\n",
    "min_x = take_roots(a, b, c - min_y)[0]"
   ]
  },
  {
   "cell_type": "code",
   "execution_count": null,
   "id": "cddaa04e",
   "metadata": {},
   "outputs": [],
   "source": [
    "#x_down = np.arange(-limit, min_x, step)\n",
    "#x_up = np.arange(min_x, limit, step)"
   ]
  },
  {
   "cell_type": "code",
   "execution_count": null,
   "id": "e4795772",
   "metadata": {},
   "outputs": [],
   "source": [
    "x_down_pos = np.arange(-limit, min(roots), step)\n",
    "x_down_neg = np.arange(min(roots), min_x, step)\n",
    "x_up_neg = np.arange(min_x, max(roots), step)\n",
    "x_up_pos = np.arange(max(roots), limit, step)"
   ]
  },
  {
   "cell_type": "code",
   "execution_count": null,
   "id": "cefd5efa",
   "metadata": {},
   "outputs": [],
   "source": [
    "plt.pcParams['lines.linestyle'] = '-'\n",
    "plt.plot(x_down_pos, func(x_down_pos), 'r')\n",
    "plt.plot(x_up_pos, func(x_up_pos), 'b')\n",
    "plt.pcParams['lines.linestyle'] = '--'\n",
    "plt.plot(x_down_neg, func(x_down_neg), 'r')\n",
    "plt.plot(x_up_neg, func(x_up_neg), 'b')\n",
    "plt.plot(roots[0], func(roots[0]), 'go')\n",
    "plt.plot(roots[1], func(roots[1]), 'go')\n",
    "plt.plot(min_x, min_y, 'cx')\n",
    "plt.grid()"
   ]
  }
 ],
 "metadata": {
  "kernelspec": {
   "display_name": "Python 3 (ipykernel)",
   "language": "python",
   "name": "python3"
  },
  "language_info": {
   "codemirror_mode": {
    "name": "ipython",
    "version": 3
   },
   "file_extension": ".py",
   "mimetype": "text/x-python",
   "name": "python",
   "nbconvert_exporter": "python",
   "pygments_lexer": "ipython3",
   "version": "3.11.1"
  }
 },
 "nbformat": 4,
 "nbformat_minor": 5
}
